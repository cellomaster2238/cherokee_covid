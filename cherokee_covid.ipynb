{
 "cells": [
  {
   "cell_type": "code",
   "execution_count": 12,
   "metadata": {},
   "outputs": [],
   "source": [
    "import pandas as pd\n",
    "import matplotlib.pyplot as plt\n",
    "import matplotlib.dates as mdates\n",
    "import numpy as np\n",
    "import datetime as dt\n",
    "from sklearn.linear_model import LinearRegression"
   ]
  },
  {
   "cell_type": "code",
   "execution_count": 13,
   "metadata": {},
   "outputs": [],
   "source": [
    "# URL for raw file\n",
    "csv_url = 'https://github.com/nytimes/covid-19-data/raw/master/us-counties.csv'"
   ]
  },
  {
   "cell_type": "code",
   "execution_count": 14,
   "metadata": {},
   "outputs": [
    {
     "data": {
      "text/html": [
       "<div>\n",
       "<style scoped>\n",
       "    .dataframe tbody tr th:only-of-type {\n",
       "        vertical-align: middle;\n",
       "    }\n",
       "\n",
       "    .dataframe tbody tr th {\n",
       "        vertical-align: top;\n",
       "    }\n",
       "\n",
       "    .dataframe thead th {\n",
       "        text-align: right;\n",
       "    }\n",
       "</style>\n",
       "<table border=\"1\" class=\"dataframe\">\n",
       "  <thead>\n",
       "    <tr style=\"text-align: right;\">\n",
       "      <th></th>\n",
       "      <th>date</th>\n",
       "      <th>county</th>\n",
       "      <th>state</th>\n",
       "      <th>fips</th>\n",
       "      <th>cases</th>\n",
       "      <th>deaths</th>\n",
       "    </tr>\n",
       "  </thead>\n",
       "  <tbody>\n",
       "    <tr>\n",
       "      <th>0</th>\n",
       "      <td>2020-01-21</td>\n",
       "      <td>Snohomish</td>\n",
       "      <td>Washington</td>\n",
       "      <td>53061.0</td>\n",
       "      <td>1</td>\n",
       "      <td>0</td>\n",
       "    </tr>\n",
       "    <tr>\n",
       "      <th>1</th>\n",
       "      <td>2020-01-22</td>\n",
       "      <td>Snohomish</td>\n",
       "      <td>Washington</td>\n",
       "      <td>53061.0</td>\n",
       "      <td>1</td>\n",
       "      <td>0</td>\n",
       "    </tr>\n",
       "    <tr>\n",
       "      <th>2</th>\n",
       "      <td>2020-01-23</td>\n",
       "      <td>Snohomish</td>\n",
       "      <td>Washington</td>\n",
       "      <td>53061.0</td>\n",
       "      <td>1</td>\n",
       "      <td>0</td>\n",
       "    </tr>\n",
       "    <tr>\n",
       "      <th>3</th>\n",
       "      <td>2020-01-24</td>\n",
       "      <td>Cook</td>\n",
       "      <td>Illinois</td>\n",
       "      <td>17031.0</td>\n",
       "      <td>1</td>\n",
       "      <td>0</td>\n",
       "    </tr>\n",
       "    <tr>\n",
       "      <th>4</th>\n",
       "      <td>2020-01-24</td>\n",
       "      <td>Snohomish</td>\n",
       "      <td>Washington</td>\n",
       "      <td>53061.0</td>\n",
       "      <td>1</td>\n",
       "      <td>0</td>\n",
       "    </tr>\n",
       "  </tbody>\n",
       "</table>\n",
       "</div>"
      ],
      "text/plain": [
       "        date     county       state     fips  cases  deaths\n",
       "0 2020-01-21  Snohomish  Washington  53061.0      1       0\n",
       "1 2020-01-22  Snohomish  Washington  53061.0      1       0\n",
       "2 2020-01-23  Snohomish  Washington  53061.0      1       0\n",
       "3 2020-01-24       Cook    Illinois  17031.0      1       0\n",
       "4 2020-01-24  Snohomish  Washington  53061.0      1       0"
      ]
     },
     "execution_count": 14,
     "metadata": {},
     "output_type": "execute_result"
    }
   ],
   "source": [
    "df = pd.read_csv(csv_url)\n",
    "df['date'] = pd.to_datetime(df['date'])\n",
    "\n",
    "df.head()"
   ]
  },
  {
   "cell_type": "code",
   "execution_count": 15,
   "metadata": {},
   "outputs": [
    {
     "data": {
      "text/html": [
       "<div>\n",
       "<style scoped>\n",
       "    .dataframe tbody tr th:only-of-type {\n",
       "        vertical-align: middle;\n",
       "    }\n",
       "\n",
       "    .dataframe tbody tr th {\n",
       "        vertical-align: top;\n",
       "    }\n",
       "\n",
       "    .dataframe thead th {\n",
       "        text-align: right;\n",
       "    }\n",
       "</style>\n",
       "<table border=\"1\" class=\"dataframe\">\n",
       "  <thead>\n",
       "    <tr style=\"text-align: right;\">\n",
       "      <th></th>\n",
       "      <th>date</th>\n",
       "      <th>county</th>\n",
       "      <th>state</th>\n",
       "      <th>fips</th>\n",
       "      <th>cases</th>\n",
       "      <th>deaths</th>\n",
       "    </tr>\n",
       "  </thead>\n",
       "  <tbody>\n",
       "    <tr>\n",
       "      <th>0</th>\n",
       "      <td>2020-03-27</td>\n",
       "      <td>Cherokee</td>\n",
       "      <td>Oklahoma</td>\n",
       "      <td>40021.0</td>\n",
       "      <td>1</td>\n",
       "      <td>0</td>\n",
       "    </tr>\n",
       "    <tr>\n",
       "      <th>1</th>\n",
       "      <td>2020-03-28</td>\n",
       "      <td>Cherokee</td>\n",
       "      <td>Oklahoma</td>\n",
       "      <td>40021.0</td>\n",
       "      <td>1</td>\n",
       "      <td>0</td>\n",
       "    </tr>\n",
       "    <tr>\n",
       "      <th>2</th>\n",
       "      <td>2020-03-29</td>\n",
       "      <td>Cherokee</td>\n",
       "      <td>Oklahoma</td>\n",
       "      <td>40021.0</td>\n",
       "      <td>1</td>\n",
       "      <td>0</td>\n",
       "    </tr>\n",
       "    <tr>\n",
       "      <th>3</th>\n",
       "      <td>2020-03-30</td>\n",
       "      <td>Cherokee</td>\n",
       "      <td>Oklahoma</td>\n",
       "      <td>40021.0</td>\n",
       "      <td>1</td>\n",
       "      <td>0</td>\n",
       "    </tr>\n",
       "    <tr>\n",
       "      <th>4</th>\n",
       "      <td>2020-03-31</td>\n",
       "      <td>Cherokee</td>\n",
       "      <td>Oklahoma</td>\n",
       "      <td>40021.0</td>\n",
       "      <td>4</td>\n",
       "      <td>0</td>\n",
       "    </tr>\n",
       "  </tbody>\n",
       "</table>\n",
       "</div>"
      ],
      "text/plain": [
       "        date    county     state     fips  cases  deaths\n",
       "0 2020-03-27  Cherokee  Oklahoma  40021.0      1       0\n",
       "1 2020-03-28  Cherokee  Oklahoma  40021.0      1       0\n",
       "2 2020-03-29  Cherokee  Oklahoma  40021.0      1       0\n",
       "3 2020-03-30  Cherokee  Oklahoma  40021.0      1       0\n",
       "4 2020-03-31  Cherokee  Oklahoma  40021.0      4       0"
      ]
     },
     "execution_count": 15,
     "metadata": {},
     "output_type": "execute_result"
    }
   ],
   "source": [
    "# Dataframe with all oklahoma counties\n",
    "okla_df = df[df['state'] == 'Oklahoma']\n",
    "\n",
    "# Dataframe with just cherokee county data\n",
    "cherokee_df = okla_df[okla_df['county'] == 'Cherokee']\n",
    "cherokee_df.reset_index(inplace = True, drop = True)\n",
    "\n",
    "cherokee_df.head()"
   ]
  },
  {
   "cell_type": "code",
   "execution_count": 16,
   "metadata": {},
   "outputs": [
    {
     "data": {
      "image/png": "[encoded data removed]",
      "text/plain": [
       "<Figure size 720x432 with 1 Axes>"
      ]
     },
     "metadata": {
      "needs_background": "light"
     },
     "output_type": "display_data"
    }
   ],
   "source": [
    "notes = {'nsucloses' : dt.datetime(2020, 3, 13),\n",
    "         'reopening' : dt.datetime(2020, 6, 1),\n",
    "         'movein' : dt.datetime(2020, 8, 3),\n",
    "         'firstweek' : dt.datetime(2020, 8, 10),\n",
    "         'nsustarts' : dt.datetime(2020, 8, 17),\n",
    "         'tpsstarts' : dt.datetime(2020, 8, 27)}\n",
    "\n",
    "# Points with a note will be plotted in red\n",
    "colors = np.array(['#4287f5' for i in range(cherokee_df.shape[0])])\n",
    "for i in range(len(colors)):\n",
    "    if cherokee_df.iloc[i, 0] in set(notes.values()):\n",
    "        colors[i] = '#f54242'\n",
    "\n",
    "# Create plot\n",
    "fig, ax = plt.subplots(figsize = (10, 6))\n",
    "ax.scatter(cherokee_df['date'], cherokee_df['cases'], color = colors, alpha = 0.6)\n",
    "plt.title('Cherokee County, Oklahoma: Number of COVID-19 Cases')\n",
    "plt.ylabel('Cases')\n",
    "plt.xlabel('Date')\n",
    "plt.xticks(rotation = 45)\n",
    "ax.set_xlim([dt.date(2020, 3, 1), cherokee_df['date'].max() + dt.timedelta(7, 0)])\n",
    "\n",
    "# Annotate arrows\n",
    "plt.annotate('',\n",
    "             xy=(mdates.date2num(notes['nsucloses']), 0),\n",
    "             xytext=(mdates.date2num(notes['nsucloses']) + 25, 45),\n",
    "             xycoords='data',\n",
    "             arrowprops=dict(arrowstyle='->', connectionstyle='arc3', color='#f54242', lw=2)\n",
    "            )\n",
    "\n",
    "plt.annotate('',\n",
    "             xy=(mdates.date2num(notes['reopening']), 29),\n",
    "             xytext=(mdates.date2num(notes['reopening']) - 30, 115),\n",
    "             xycoords='data',\n",
    "             arrowprops=dict(arrowstyle='->', connectionstyle='arc3', color='#f54242', lw=2)\n",
    "            )\n",
    "\n",
    "plt.annotate('',\n",
    "             xy=(mdates.date2num(notes['movein']), 351),\n",
    "             xytext=(mdates.date2num(notes['movein']) - 100, 210),\n",
    "             xycoords='data',\n",
    "             arrowprops=dict(arrowstyle='->', connectionstyle='arc3', color='#f54242', lw=2)\n",
    "            )\n",
    "\n",
    "plt.annotate('',\n",
    "             xy=(mdates.date2num(notes['firstweek']), 445),\n",
    "             xytext=(mdates.date2num(notes['movein']) - 90, 388),\n",
    "             xycoords='data',\n",
    "             arrowprops=dict(arrowstyle='->', connectionstyle='arc3', color='#f54242', lw=2)\n",
    "            )\n",
    "\n",
    "# Text notes\n",
    "plt.text(mdates.date2num(notes['nsucloses']), 50, 'NSU moves classes online')\n",
    "plt.text(mdates.date2num(notes['reopening']) - 60, 120, 'Oklahoma Phase 3 reopening begins')\n",
    "plt.text(mdates.date2num(notes['movein']) - 130, 200, 'Students begin returning to dorms')\n",
    "plt.text(mdates.date2num(notes['firstweek']) - 147, 375, 'Opening week at NSU and TPS staff return to campus')\n",
    "\n",
    "fig.savefig('cherokee_cases.png')\n",
    "plt.show()"
   ]
  },
  {
   "cell_type": "code",
   "execution_count": 17,
   "metadata": {},
   "outputs": [
    {
     "data": {
      "text/html": [
       "<div>\n",
       "<style scoped>\n",
       "    .dataframe tbody tr th:only-of-type {\n",
       "        vertical-align: middle;\n",
       "    }\n",
       "\n",
       "    .dataframe tbody tr th {\n",
       "        vertical-align: top;\n",
       "    }\n",
       "\n",
       "    .dataframe thead th {\n",
       "        text-align: right;\n",
       "    }\n",
       "</style>\n",
       "<table border=\"1\" class=\"dataframe\">\n",
       "  <thead>\n",
       "    <tr style=\"text-align: right;\">\n",
       "      <th></th>\n",
       "      <th>date</th>\n",
       "      <th>county</th>\n",
       "      <th>state</th>\n",
       "      <th>fips</th>\n",
       "      <th>cases</th>\n",
       "      <th>deaths</th>\n",
       "    </tr>\n",
       "  </thead>\n",
       "  <tbody>\n",
       "    <tr>\n",
       "      <th>129</th>\n",
       "      <td>2020-08-03</td>\n",
       "      <td>Cherokee</td>\n",
       "      <td>Oklahoma</td>\n",
       "      <td>40021.0</td>\n",
       "      <td>351</td>\n",
       "      <td>1</td>\n",
       "    </tr>\n",
       "  </tbody>\n",
       "</table>\n",
       "</div>"
      ],
      "text/plain": [
       "          date    county     state     fips  cases  deaths\n",
       "129 2020-08-03  Cherokee  Oklahoma  40021.0    351       1"
      ]
     },
     "execution_count": 17,
     "metadata": {},
     "output_type": "execute_result"
    }
   ],
   "source": [
    "cherokee_df[cherokee_df['date'] == notes['movein']]"
   ]
  },
  {
   "cell_type": "code",
   "execution_count": 18,
   "metadata": {},
   "outputs": [
    {
     "data": {
      "text/html": [
       "<div>\n",
       "<style scoped>\n",
       "    .dataframe tbody tr th:only-of-type {\n",
       "        vertical-align: middle;\n",
       "    }\n",
       "\n",
       "    .dataframe tbody tr th {\n",
       "        vertical-align: top;\n",
       "    }\n",
       "\n",
       "    .dataframe thead th {\n",
       "        text-align: right;\n",
       "    }\n",
       "</style>\n",
       "<table border=\"1\" class=\"dataframe\">\n",
       "  <thead>\n",
       "    <tr style=\"text-align: right;\">\n",
       "      <th></th>\n",
       "      <th>date</th>\n",
       "      <th>county</th>\n",
       "      <th>state</th>\n",
       "      <th>fips</th>\n",
       "      <th>cases</th>\n",
       "      <th>deaths</th>\n",
       "    </tr>\n",
       "  </thead>\n",
       "  <tbody>\n",
       "    <tr>\n",
       "      <th>66</th>\n",
       "      <td>2020-06-01</td>\n",
       "      <td>Cherokee</td>\n",
       "      <td>Oklahoma</td>\n",
       "      <td>40021.0</td>\n",
       "      <td>29</td>\n",
       "      <td>1</td>\n",
       "    </tr>\n",
       "  </tbody>\n",
       "</table>\n",
       "</div>"
      ],
      "text/plain": [
       "         date    county     state     fips  cases  deaths\n",
       "66 2020-06-01  Cherokee  Oklahoma  40021.0     29       1"
      ]
     },
     "execution_count": 18,
     "metadata": {},
     "output_type": "execute_result"
    }
   ],
   "source": [
    "cherokee_df[cherokee_df['date'] == notes['reopening']]"
   ]
  },
  {
   "cell_type": "code",
   "execution_count": 19,
   "metadata": {},
   "outputs": [
    {
     "data": {
      "text/plain": [
       "[datetime.datetime(2020, 3, 13, 0, 0),\n",
       " datetime.datetime(2020, 6, 1, 0, 0),\n",
       " datetime.datetime(2020, 8, 3, 0, 0),\n",
       " datetime.datetime(2020, 8, 10, 0, 0),\n",
       " datetime.datetime(2020, 8, 17, 0, 0),\n",
       " datetime.datetime(2020, 8, 27, 0, 0)]"
      ]
     },
     "execution_count": 19,
     "metadata": {},
     "output_type": "execute_result"
    }
   ],
   "source": [
    "list(notes.values())"
   ]
  },
  {
   "cell_type": "code",
   "execution_count": 20,
   "metadata": {},
   "outputs": [
    {
     "data": {
      "text/plain": [
       "date      2020-08-10 00:00:00\n",
       "county               Cherokee\n",
       "state                Oklahoma\n",
       "fips                    40021\n",
       "cases                     445\n",
       "deaths                      2\n",
       "Name: 136, dtype: object"
      ]
     },
     "execution_count": 20,
     "metadata": {},
     "output_type": "execute_result"
    }
   ],
   "source": [
    "cherokee_df.iloc[136, :]"
   ]
  },
  {
   "cell_type": "code",
   "execution_count": 21,
   "metadata": {},
   "outputs": [
    {
     "data": {
      "text/plain": [
       "137"
      ]
     },
     "execution_count": 21,
     "metadata": {},
     "output_type": "execute_result"
    }
   ],
   "source": [
    "len(range(cherokee_df.shape[0]))"
   ]
  },
  {
   "cell_type": "code",
   "execution_count": 22,
   "metadata": {},
   "outputs": [
    {
     "data": {
      "text/plain": [
       "0     2020-03-27\n",
       "1     2020-03-28\n",
       "2     2020-03-29\n",
       "3     2020-03-30\n",
       "4     2020-03-31\n",
       "         ...    \n",
       "132   2020-08-06\n",
       "133   2020-08-07\n",
       "134   2020-08-08\n",
       "135   2020-08-09\n",
       "136   2020-08-10\n",
       "Name: date, Length: 137, dtype: datetime64[ns]"
      ]
     },
     "execution_count": 22,
     "metadata": {},
     "output_type": "execute_result"
    }
   ],
   "source": [
    "cherokee_df['date']"
   ]
  },
  {
   "cell_type": "code",
   "execution_count": null,
   "metadata": {},
   "outputs": [],
   "source": []
  }
 ],
 "metadata": {
  "kernelspec": {
   "display_name": "Python 3",
   "language": "python",
   "name": "python3"
  },
  "language_info": {
   "codemirror_mode": {
    "name": "ipython",
    "version": 3
   },
   "file_extension": ".py",
   "mimetype": "text/x-python",
   "name": "python",
   "nbconvert_exporter": "python",
   "pygments_lexer": "ipython3",
   "version": "3.7.6"
  }
 },
 "nbformat": 4,
 "nbformat_minor": 4
}
